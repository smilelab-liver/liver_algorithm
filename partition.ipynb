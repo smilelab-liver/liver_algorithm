{
 "cells": [
  {
   "cell_type": "code",
   "execution_count": 12,
   "id": "d9baefc3-522b-4b06-a6cd-65e26388a4f9",
   "metadata": {},
   "outputs": [],
   "source": [
    "import os\n",
    "os.environ[\"OPENCV_IO_MAX_IMAGE_PIXELS\"] = str(pow(2,40))\n",
    "import openslide\n",
    "import cv2\n",
    "from matplotlib import pyplot as plt\n",
    "import numpy as np\n",
    "import math\n",
    "import xml.etree.cElementTree as ET\n",
    "from tqdm import tqdm\n",
    "import openslide"
   ]
  },
  {
   "cell_type": "code",
   "execution_count": 21,
   "id": "8815a7cd-fc81-43be-8e2c-945ac92037dd",
   "metadata": {},
   "outputs": [],
   "source": [
    "json_path = '/work/u3516703/work/VeinDatasetV3/inference_json/20-00002-Masson.geojson'\n",
    "wsi_path = '/work/u3516703/work/evaluation_dataset/wsi_path/20-00002-Masson.mrxs'\n",
    "xml_path = '/work/u3516703/work/evaluation_ver2/wsi_pred/20-00002-Masson.xml'"
   ]
  },
  {
   "cell_type": "code",
   "execution_count": 2,
   "id": "455c0545-a493-46c9-bfd3-b28729a71a50",
   "metadata": {},
   "outputs": [],
   "source": [
    "def read_bbox_from_json(file_path):\n",
    "    \"\"\"\n",
    "    讀取 Bounding-Box 的 geojson \n",
    "    \"\"\"\n",
    "    Json = []\n",
    "    import json\n",
    "    with open(file_path) as f:\n",
    "        datas = json.load(f)\n",
    "        for data in datas:\n",
    "            box = {\n",
    "                \"class\":data[\"properties\"][\"classification\"][\"name\"],\n",
    "                \"coordinates\":data[\"geometry\"][\"coordinates\"][0][:4]\n",
    "                  }\n",
    "            Json.append(box)\n",
    "    return Json"
   ]
  },
  {
   "cell_type": "code",
   "execution_count": 14,
   "id": "4b7d0c63-890e-4dad-90d0-c431fc9ce32e",
   "metadata": {},
   "outputs": [],
   "source": [
    "def extract_annotation(line):\n",
    "    \"\"\"Extract the annotation details from the given line.\"\"\"\n",
    "    parts = line.split('\"')\n",
    "    name = parts[1]\n",
    "    annotation_type = parts[3]\n",
    "    part_of_group = parts[5]\n",
    "    \n",
    "    # Map partOfGroup to meaningful names\n",
    "    annotation = {\n",
    "        'name': 'fibrosis' if part_of_group == '0' else 'lumen',\n",
    "        'partOfGroup': 'fibrosis',\n",
    "        'type': annotation_type.lower()\n",
    "    }\n",
    "    \n",
    "    return annotation\n",
    "\n",
    "def extract_coordinates(line):\n",
    "    \"\"\"Extract coordinates from the given line.\"\"\"\n",
    "    parts = line.split('\"')\n",
    "    x = float(parts[3])\n",
    "    y = float(parts[5])\n",
    "    return [x, y]\n",
    "    \n",
    "def read_fibrosis_xml(xml_path):\n",
    "    \"\"\"\n",
    "    讀取 Fibrosis XML 檔案，回傳 json\n",
    "    \"\"\"\n",
    "    json_datas = {'annotation': []}\n",
    "    \n",
    "    with open(xml_path, 'r') as xml_file:\n",
    "        annotation = None\n",
    "        coordinates = []\n",
    "\n",
    "        for line in xml_file:\n",
    "            if 'Annotation Name' in line:\n",
    "                annotation = extract_annotation(line)\n",
    "                coordinates = []\n",
    "            elif 'Coordinate Order' in line:\n",
    "                coordinate = extract_coordinates(line)\n",
    "                coordinates.append(coordinate)\n",
    "            elif '/Coordinates' in line and annotation is not None:\n",
    "                annotation['coordinates'] = coordinates\n",
    "                json_datas['annotation'].append(annotation)\n",
    "                annotation = None \n",
    "    return json_datas"
   ]
  },
  {
   "cell_type": "code",
   "execution_count": 24,
   "id": "e4837a99-6ac3-46b9-ab57-266cac578c04",
   "metadata": {},
   "outputs": [],
   "source": [
    "def parse_json(json_datas):\n",
    "    \"\"\"\n",
    "    將 Fibrosis jsondatas 分成 fibrosis 和 lumen (內圈)\n",
    "    \"\"\"\n",
    "    contours = json_datas['annotation']\n",
    "    fibrosis_contours=[]\n",
    "    lumen_contours=[]\n",
    "    for contour in contours:\n",
    "        if contour['name']=='fibrosis':\n",
    "            fibrosis_contours.append(contour)\n",
    "        elif contour['name']=='lumen':\n",
    "            lumen_contours.append(contour)\n",
    "        else:\n",
    "            pass\n",
    "    return fibrosis_contours,lumen_contours\n",
    "\n",
    "def generate_fibrosis_mask(wsi_path,xml_path,level=3):\n",
    "    \"\"\"\n",
    "    讀取 Fibrosis xml 檔案，回傳 mask (GrayScale)\n",
    "    \"\"\"\n",
    "    scale_rate = 2 ** level\n",
    "    classes = {'duct':0 ,'portal':1, 'central':2}\n",
    "    colors = [(255,0,0),(0,255,0),(0,0,255)]\n",
    "    \n",
    "    # 1. Get Image Shape & Generate Mask\n",
    "    wsi_data = openslide.OpenSlide(wsi_path)\n",
    "    width, height = wsi_data.level_dimensions[level]\n",
    "    mask = np.zeros((height, width), np.uint8)\n",
    "\n",
    "    # 2. Read BBox Json\n",
    "    json_datas = read_fibrosis_xml(xml_path)\n",
    "    fibrosis_contours,lumen_contours = parse_json(json_datas)\n",
    "\n",
    "\n",
    "    for contour in fibrosis_contours:\n",
    "        coordinates = contour['coordinates']\n",
    "        coordinates = [[int(value / scale_rate) for value in coordinate] for coordinate in coordinates]\n",
    "        coordinates = np.array([coordinates], dtype=np.int32)\n",
    "        mask = cv2.fillPoly(mask, coordinates, 255)\n",
    "    for contour in lumen_contours:\n",
    "        coordinates = contour['coordinates']\n",
    "        coordinates = [[int(value / scale_rate) for value in coordinate] for coordinate in coordinates]\n",
    "        coordinates = np.array([coordinates], dtype=np.int32)\n",
    "        mask = cv2.fillPoly(mask, coordinates, 0)\n",
    "    return mask"
   ]
  },
  {
   "cell_type": "code",
   "execution_count": 93,
   "id": "ce5a181b-a8d1-4037-841f-d6cf19e7fa71",
   "metadata": {},
   "outputs": [],
   "source": [
    "def generate_bbox_mask(wsi_path,json_path,level=3):\n",
    "    \"\"\"\n",
    "    讀取 bbox geojson，回傳 bbox mask (BGR)\n",
    "    \"\"\"\n",
    "    scale_rate = 2 ** level\n",
    "    classes = {'duct':0 ,'portal':1, 'central':2}\n",
    "    colors = [(255,0,0),(0,255,0),(0,0,255)]\n",
    "    \n",
    "    # 1. Get Image Shape & Generate Mask\n",
    "    wsi_data = openslide.OpenSlide(wsi_path)\n",
    "    width, height = wsi_data.level_dimensions[level]\n",
    "    mask = np.zeros((height, width, 3), np.uint8)\n",
    "\n",
    "    # 2. Read BBox Json\n",
    "    json_datas = read_bbox_from_json(json_path)\n",
    "\n",
    "    # 3. Draw JsonDatas on Mask\n",
    "    for json_data in json_datas:\n",
    "        bbox_class = json_data['class']\n",
    "        class_idx = classes[bbox_class]\n",
    "        coordinates = []\n",
    "        coordinates.append(json_data['coordinates'][0])\n",
    "        coordinates.append(json_data['coordinates'][2])\n",
    "        coordinates = [[round(coordinate[0]/scale_rate),round(coordinate[1]/scale_rate)] for coordinate in coordinates]\n",
    "        \n",
    "        x1, y1 = coordinates[0] \n",
    "        x2, y2 = coordinates[1]\n",
    "        cv2.rectangle(mask, (x1, y1), (x2, y2), colors[class_idx], -1)\n",
    "    return mask"
   ]
  },
  {
   "cell_type": "code",
   "execution_count": 23,
   "id": "6e5b9a21-2c11-41c9-b1a8-cb9611fb95c6",
   "metadata": {},
   "outputs": [
    {
     "data": {
      "image/png": "[encoded data removed]",
      "text/plain": [
       "<Figure size 640x480 with 1 Axes>"
      ]
     },
     "metadata": {},
     "output_type": "display_data"
    }
   ],
   "source": [
    "mask = generate_fibrosis_mask(wsi_path,xml_path,level=3)\n",
    "plt.imshow(mask)\n",
    "plt.show()"
   ]
  }
 ],
 "metadata": {
  "kernelspec": {
   "display_name": "yolov9",
   "language": "python",
   "name": "yolov9"
  },
  "language_info": {
   "codemirror_mode": {
    "name": "ipython",
    "version": 3
   },
   "file_extension": ".py",
   "mimetype": "text/x-python",
   "name": "python",
   "nbconvert_exporter": "python",
   "pygments_lexer": "ipython3",
   "version": "3.8.19"
  }
 },
 "nbformat": 4,
 "nbformat_minor": 5
}
